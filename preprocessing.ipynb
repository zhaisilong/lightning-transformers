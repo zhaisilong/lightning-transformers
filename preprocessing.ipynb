{
 "cells": [
  {
   "cell_type": "code",
   "execution_count": null,
   "metadata": {},
   "outputs": [],
   "source": [
    "import os\n",
    "import json\n",
    "from collections import defaultdict\n",
    "\n",
    "data_dir = 'data/toy'\n",
    "src_train_path = os.path.join(data_dir, 'src-train.txt')\n",
    "tgt_train_path = os.path.join(data_dir, 'tgt-train.txt')\n",
    "d = defaultdict\n",
    "with open(src_train_path, 'r') as f:\n",
    "    d.\n"
   ]
  }
 ],
 "metadata": {
  "language_info": {
   "name": "python"
  },
  "orig_nbformat": 4
 },
 "nbformat": 4,
 "nbformat_minor": 2
}
